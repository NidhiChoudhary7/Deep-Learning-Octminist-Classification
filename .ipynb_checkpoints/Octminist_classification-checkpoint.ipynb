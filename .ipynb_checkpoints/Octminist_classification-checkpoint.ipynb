{
 "cells": [
  {
   "cell_type": "code",
   "execution_count": 54,
   "id": "767119f7-04cf-4005-b6fd-7737f621c81a",
   "metadata": {
    "colab": {
     "base_uri": "https://localhost:8080/"
    },
    "id": "767119f7-04cf-4005-b6fd-7737f621c81a",
    "outputId": "1af3060e-c937-48d1-ffb4-2be105047ec4"
   },
   "outputs": [],
   "source": [
    " # pip install torch torchvision torchaudio --extra-index-url https://download.pytorch.org/whl/cu118"
   ]
  },
  {
   "cell_type": "markdown",
   "id": "2ee08a40-2a28-4825-94b7-ad0c1d6b9765",
   "metadata": {
    "id": "2ee08a40-2a28-4825-94b7-ad0c1d6b9765"
   },
   "source": [
    "## Setting MPS"
   ]
  },
  {
   "cell_type": "code",
   "execution_count": 56,
   "id": "5ed7767d-e0c2-496b-8a53-940bc9c6449a",
   "metadata": {
    "colab": {
     "base_uri": "https://localhost:8080/"
    },
    "id": "5ed7767d-e0c2-496b-8a53-940bc9c6449a",
    "outputId": "fb19a4b9-24d5-4291-a505-eff8f8c2dc2e"
   },
   "outputs": [
    {
     "name": "stdout",
     "output_type": "stream",
     "text": [
      "False\n"
     ]
    }
   ],
   "source": [
    "import torch\n",
    "print(torch.cuda.is_available())  # Should return True if GPU is accessible"
   ]
  },
  {
   "cell_type": "code",
   "execution_count": 57,
   "id": "ee0eb197-c0de-4d08-9eb6-925e3337efe9",
   "metadata": {
    "colab": {
     "base_uri": "https://localhost:8080/"
    },
    "id": "ee0eb197-c0de-4d08-9eb6-925e3337efe9",
    "outputId": "0f114c59-9c6e-4b49-94a2-f1a362d13583"
   },
   "outputs": [
    {
     "name": "stdout",
     "output_type": "stream",
     "text": [
      "True\n"
     ]
    }
   ],
   "source": [
    "import torch\n",
    "print(torch.backends.mps.is_available())  # Should return True if MPS backend is supported\n"
   ]
  },
  {
   "cell_type": "code",
   "execution_count": 58,
   "id": "946f29bb-ba53-4e9d-bdb4-635f7905ee1b",
   "metadata": {},
   "outputs": [
    {
     "name": "stdout",
     "output_type": "stream",
     "text": [
      "True\n",
      "True\n"
     ]
    }
   ],
   "source": [
    "import torch\n",
    "print(torch.backends.mps.is_available())  # Should return True\n",
    "print(torch.backends.mps.is_built())      # Should return True"
   ]
  },
  {
   "cell_type": "code",
   "execution_count": 59,
   "id": "9e731f75-ca5e-4cfa-930e-3b39998a77de",
   "metadata": {},
   "outputs": [],
   "source": [
    "device = torch.device(\"mps\")\n",
    "tensor = torch.tensor([1.0, 2.0, 3.0]).to(device)"
   ]
  },
  {
   "cell_type": "code",
   "execution_count": 60,
   "id": "e00ed0e8-50f5-4628-8a33-dce6a9f92d2d",
   "metadata": {},
   "outputs": [
    {
     "data": {
      "text/plain": [
       "device(type='mps')"
      ]
     },
     "execution_count": 60,
     "metadata": {},
     "output_type": "execute_result"
    }
   ],
   "source": [
    "device"
   ]
  },
  {
   "cell_type": "code",
   "execution_count": 61,
   "id": "b51dd9a1-d84c-4499-b4ae-ceb264f6e3b0",
   "metadata": {
    "colab": {
     "base_uri": "https://localhost:8080/"
    },
    "id": "b51dd9a1-d84c-4499-b4ae-ceb264f6e3b0",
    "outputId": "396863c2-dedd-4315-f577-18f069f39966"
   },
   "outputs": [],
   "source": [
    "# device = torch.device(\"cuda\")  # Select MPS GPU\n",
    "# tensor = torch.randn(3, 3).to(device)\n",
    "# print(tensor)"
   ]
  },
  {
   "cell_type": "markdown",
   "id": "6bf1cb6a-aa0e-4a4a-8dc0-71fd25da7b84",
   "metadata": {
    "id": "6bf1cb6a-aa0e-4a4a-8dc0-71fd25da7b84"
   },
   "source": [
    "# About Data:"
   ]
  },
  {
   "cell_type": "markdown",
   "id": "fc4237b9-40bc-485e-b09c-cab14695f081",
   "metadata": {
    "id": "fc4237b9-40bc-485e-b09c-cab14695f081"
   },
   "source": [
    "## OCTMNIST Diagnosis Categories of Retinal Data:  \n",
    "\n",
    "## Choroidal Neovascularization (CNV) – Label 0\n",
    "\n",
    "- Growth of new blood vessels from the choroid through a break in the Bruch membrane.\n",
    "- Major cause of visual loss.\n",
    "- Leads to damage in the sub-retinal pigment epithelium (sub-RPE) or subretinal space.\n",
    "\n",
    "## Diabetic Macular Edema (DME) – Label 1\n",
    "\n",
    "- Complication of diabetes causing fluid accumulation in the macula.\n",
    "- Affects the fovea, where vision is sharpest.\n",
    "- Leads to progressive vision loss over time, making it hard to focus.\n",
    "\n",
    "\n",
    "## Drusen – Label 2\n",
    "\n",
    "- Yellow deposits of lipids and proteins under the retina.\n",
    "- Small drusen are generally harmless.\n",
    "- Large drusen are an early sign of dry age-related macular degeneration.\n",
    "\n",
    "## Normal Retina – Label 3\n",
    "\n",
    "- Healthy retina without signs of CNV, DME, or drusen."
   ]
  },
  {
   "cell_type": "markdown",
   "id": "cd2e5a3c-be73-4800-b876-ce01b19fd3c0",
   "metadata": {
    "id": "cd2e5a3c-be73-4800-b876-ce01b19fd3c0"
   },
   "source": [
    "## Installing Data"
   ]
  },
  {
   "cell_type": "code",
   "execution_count": 65,
   "id": "7b66ba75-0807-4979-972b-bb76124cc10e",
   "metadata": {
    "colab": {
     "base_uri": "https://localhost:8080/"
    },
    "id": "7b66ba75-0807-4979-972b-bb76124cc10e",
    "outputId": "348e78c4-cce1-42cb-9a22-ecba7f09533d"
   },
   "outputs": [],
   "source": [
    " # pip install medmnist"
   ]
  },
  {
   "cell_type": "code",
   "execution_count": 66,
   "id": "4187c320-49b3-441f-961f-717737b64b28",
   "metadata": {
    "id": "4187c320-49b3-441f-961f-717737b64b28"
   },
   "outputs": [],
   "source": [
    "import torch\n",
    "from torch.utils.data import DataLoader\n",
    "import torchvision.transforms as transforms\n",
    "import matplotlib.pyplot as plt\n",
    "from medmnist import OCTMNIST\n",
    "import numpy as np\n",
    "from collections import Counter\n",
    "from torchvision.transforms import ToTensor\n",
    "import pandas as pd\n",
    "\n",
    "from tensorflow.keras.preprocessing.image import ImageDataGenerator\n",
    "from tensorflow.keras.utils import to_categorical"
   ]
  },
  {
   "cell_type": "code",
   "execution_count": 67,
   "id": "f0609670-9044-4d38-b5cf-bf9667f64f6b",
   "metadata": {
    "colab": {
     "base_uri": "https://localhost:8080/"
    },
    "id": "f0609670-9044-4d38-b5cf-bf9667f64f6b",
    "outputId": "bbd3465b-66d4-4ec8-b256-769a221100ad"
   },
   "outputs": [],
   "source": [
    "transform = transforms.Compose([\n",
    "    transforms.ToTensor(),\n",
    "])\n",
    "\n",
    "# Load train, validation, and test datasets\n",
    "train_dataset = OCTMNIST(split='train', download=True, transform=transform)\n",
    "val_dataset = OCTMNIST(split='val', download=True, transform=transform)\n",
    "test_dataset = OCTMNIST(split='test', download=True, transform=transform)\n"
   ]
  },
  {
   "cell_type": "code",
   "execution_count": 68,
   "id": "92653a4b-c5f7-4d6c-b6f4-4b5dedf0b003",
   "metadata": {
    "colab": {
     "base_uri": "https://localhost:8080/"
    },
    "id": "92653a4b-c5f7-4d6c-b6f4-4b5dedf0b003",
    "outputId": "621b5ebf-64b1-4e3c-ff83-e23e604387ed"
   },
   "outputs": [
    {
     "name": "stdout",
     "output_type": "stream",
     "text": [
      "Training set size: 97477\n",
      "Validation set size: 10832\n",
      "Test set size: 1000\n"
     ]
    }
   ],
   "source": [
    "print(f\"Training set size: {len(train_dataset)}\")\n",
    "print(f\"Validation set size: {len(val_dataset)}\")\n",
    "print(f\"Test set size: {len(test_dataset)}\")"
   ]
  },
  {
   "cell_type": "code",
   "execution_count": 69,
   "id": "ebd16550-7940-448d-925c-a6aa7dc159f1",
   "metadata": {
    "colab": {
     "base_uri": "https://localhost:8080/"
    },
    "id": "ebd16550-7940-448d-925c-a6aa7dc159f1",
    "outputId": "1fd5487f-fd8c-45d2-83ab-453975f2c2e3"
   },
   "outputs": [
    {
     "name": "stdout",
     "output_type": "stream",
     "text": [
      "Total images in OCTMNIST: 109309\n"
     ]
    }
   ],
   "source": [
    "# Calculate total images\n",
    "total_images = len(train_dataset) + len(val_dataset) + len(test_dataset)\n",
    "print(f\"Total images in OCTMNIST: {total_images}\")"
   ]
  },
  {
   "cell_type": "code",
   "execution_count": null,
   "id": "26734fed-b84a-49a3-a16c-86ee92714f95",
   "metadata": {
    "colab": {
     "base_uri": "https://localhost:8080/"
    },
    "id": "26734fed-b84a-49a3-a16c-86ee92714f95",
    "outputId": "fc7df26c-0410-4f35-aefc-0fa93b3230eb"
   },
   "outputs": [],
   "source": []
  },
  {
   "cell_type": "markdown",
   "id": "830b4319-5ac2-4402-90ab-2637bf68ea77",
   "metadata": {
    "id": "830b4319-5ac2-4402-90ab-2637bf68ea77"
   },
   "source": [
    "# Visualize data in each folder"
   ]
  },
  {
   "cell_type": "code",
   "execution_count": 71,
   "id": "a40ba38a-a1a9-451f-9689-850ccf9ef387",
   "metadata": {},
   "outputs": [],
   "source": [
    "# Create DataLoaders for batch processing\n",
    "train_loader = DataLoader(dataset=train_dataset, batch_size=32, shuffle=True)\n",
    "val_loader = DataLoader(dataset=val_dataset, batch_size=32, shuffle=False)\n",
    "test_loader = DataLoader(dataset=test_dataset, batch_size=32, shuffle=False)"
   ]
  },
  {
   "cell_type": "code",
   "execution_count": null,
   "id": "5670973f-79cd-4d96-8b8b-4d6f7307658a",
   "metadata": {},
   "outputs": [],
   "source": []
  },
  {
   "cell_type": "code",
   "execution_count": 72,
   "id": "14993a1b-9c25-49d8-937d-1b29c98cb445",
   "metadata": {
    "colab": {
     "base_uri": "https://localhost:8080/",
     "height": 1000
    },
    "id": "14993a1b-9c25-49d8-937d-1b29c98cb445",
    "outputId": "ebce84ff-8910-4378-84b1-f6b1ddf96b07"
   },
   "outputs": [
    {
     "data": {
      "image/png": "[encoded data removed]",
      "text/plain": [
       "<Figure size 1500x500 with 5 Axes>"
      ]
     },
     "metadata": {},
     "output_type": "display_data"
    },
    {
     "data": {
      "image/png": "[encoded data removed]",
      "text/plain": [
       "<Figure size 1500x500 with 5 Axes>"
      ]
     },
     "metadata": {},
     "output_type": "display_data"
    },
    {
     "data": {
      "image/png": "[encoded data removed]",
      "text/plain": [
       "<Figure size 1500x500 with 5 Axes>"
      ]
     },
     "metadata": {},
     "output_type": "display_data"
    }
   ],
   "source": [
    "def show_sample_images(loader, title):\n",
    "    # Load one batch of images and labels\n",
    "    images, labels = next(iter(loader))\n",
    "\n",
    "    # Display the first 5 images\n",
    "    fig, axes = plt.subplots(1, 5, figsize=(15, 5))\n",
    "    fig.suptitle(title, fontsize=16, y=1.05)  # Set title for the figure\n",
    "    for i in range(5):\n",
    "        axes[i].imshow(images[i][0], cmap='gray')  # OCT images are grayscale\n",
    "        axes[i].set_title(f'Label: {labels[i].item()}')\n",
    "        axes[i].axis('off')\n",
    "    plt.tight_layout()\n",
    "    plt.show()\n",
    "\n",
    "# Show sample images\n",
    "show_sample_images(train_loader, \"Training Set: 5 Sample Images\")\n",
    "show_sample_images(val_loader, \"Validation Set: 5 Sample Images\")\n",
    "show_sample_images(test_loader, \"Test Set: 5 Sample Images\")\n"
   ]
  },
  {
   "cell_type": "markdown",
   "id": "50167ea5-1868-4da6-88c1-5794cf9072f5",
   "metadata": {
    "id": "50167ea5-1868-4da6-88c1-5794cf9072f5"
   },
   "source": [
    "The visualization displays randomly selected grayscale retinal OCT images from each dataset (validation and test), showcasing how images differ between classes. Noticeable structural differences can be seen, particularly in the fluid buildup and irregular layers (Labels 0, 1, 2) compared to normal, smoother retinal layers (Label 3), which can help in distinguishing pathological conditions."
   ]
  },
  {
   "cell_type": "markdown",
   "id": "b6f5d303-99f4-4f88-ba8f-ba54de78d0ba",
   "metadata": {
    "id": "b6f5d303-99f4-4f88-ba8f-ba54de78d0ba"
   },
   "source": [
    "## Distribution of labels in each set of data:"
   ]
  },
  {
   "cell_type": "code",
   "execution_count": 75,
   "id": "791dc7d0-b123-476e-90b2-432dcf9fb014",
   "metadata": {
    "colab": {
     "base_uri": "https://localhost:8080/",
     "height": 1000
    },
    "id": "791dc7d0-b123-476e-90b2-432dcf9fb014",
    "outputId": "a443b572-d015-43cb-ceb0-dcb9748d14a5"
   },
   "outputs": [
    {
     "data": {
      "text/html": [
       "<div>\n",
       "<style scoped>\n",
       "    .dataframe tbody tr th:only-of-type {\n",
       "        vertical-align: middle;\n",
       "    }\n",
       "\n",
       "    .dataframe tbody tr th {\n",
       "        vertical-align: top;\n",
       "    }\n",
       "\n",
       "    .dataframe thead th {\n",
       "        text-align: right;\n",
       "    }\n",
       "</style>\n",
       "<table border=\"1\" class=\"dataframe\">\n",
       "  <thead>\n",
       "    <tr style=\"text-align: right;\">\n",
       "      <th></th>\n",
       "      <th>Label</th>\n",
       "      <th>Train Count</th>\n",
       "      <th>Train %</th>\n",
       "      <th>Validation Count</th>\n",
       "      <th>Validation %</th>\n",
       "      <th>Test Count</th>\n",
       "      <th>Test %</th>\n",
       "    </tr>\n",
       "  </thead>\n",
       "  <tbody>\n",
       "    <tr>\n",
       "      <th>0</th>\n",
       "      <td>CNV (0)</td>\n",
       "      <td>33484</td>\n",
       "      <td>34.350667</td>\n",
       "      <td>3721</td>\n",
       "      <td>34.351920</td>\n",
       "      <td>250</td>\n",
       "      <td>25.0</td>\n",
       "    </tr>\n",
       "    <tr>\n",
       "      <th>1</th>\n",
       "      <td>DME (1)</td>\n",
       "      <td>10213</td>\n",
       "      <td>10.477343</td>\n",
       "      <td>1135</td>\n",
       "      <td>10.478213</td>\n",
       "      <td>250</td>\n",
       "      <td>25.0</td>\n",
       "    </tr>\n",
       "    <tr>\n",
       "      <th>2</th>\n",
       "      <td>Drusen (2)</td>\n",
       "      <td>7754</td>\n",
       "      <td>7.954697</td>\n",
       "      <td>862</td>\n",
       "      <td>7.957903</td>\n",
       "      <td>250</td>\n",
       "      <td>25.0</td>\n",
       "    </tr>\n",
       "    <tr>\n",
       "      <th>3</th>\n",
       "      <td>Normal (3)</td>\n",
       "      <td>46026</td>\n",
       "      <td>47.217292</td>\n",
       "      <td>5114</td>\n",
       "      <td>47.211965</td>\n",
       "      <td>250</td>\n",
       "      <td>25.0</td>\n",
       "    </tr>\n",
       "  </tbody>\n",
       "</table>\n",
       "</div>"
      ],
      "text/plain": [
       "        Label  Train Count    Train %  Validation Count  Validation %  \\\n",
       "0     CNV (0)        33484  34.350667              3721     34.351920   \n",
       "1     DME (1)        10213  10.477343              1135     10.478213   \n",
       "2  Drusen (2)         7754   7.954697               862      7.957903   \n",
       "3  Normal (3)        46026  47.217292              5114     47.211965   \n",
       "\n",
       "   Test Count  Test %  \n",
       "0         250    25.0  \n",
       "1         250    25.0  \n",
       "2         250    25.0  \n",
       "3         250    25.0  "
      ]
     },
     "metadata": {},
     "output_type": "display_data"
    },
    {
     "data": {
      "image/png": "[encoded data removed]",
      "text/plain": [
       "<Figure size 500x400 with 1 Axes>"
      ]
     },
     "metadata": {},
     "output_type": "display_data"
    },
    {
     "data": {
      "image/png": "[encoded data removed]",
      "text/plain": [
       "<Figure size 500x400 with 1 Axes>"
      ]
     },
     "metadata": {},
     "output_type": "display_data"
    },
    {
     "data": {
      "image/png": "[encoded data removed]",
      "text/plain": [
       "<Figure size 500x400 with 1 Axes>"
      ]
     },
     "metadata": {},
     "output_type": "display_data"
    }
   ],
   "source": [
    "def get_label_distribution(dataset):\n",
    "    labels = [sample[1].item() for sample in dataset]  # Extract all labels\n",
    "    label_counts = Counter(labels)  # Count occurrences of each label\n",
    "    total_labels = sum(label_counts.values())\n",
    "\n",
    "    # Normalize to get percentage distribution\n",
    "    label_distribution = {label: (count / total_labels) * 100 for label, count in label_counts.items()}\n",
    "    return label_counts, label_distribution\n",
    "\n",
    "# Get distribution for training, validation, and test sets\n",
    "train_counts, train_distribution = get_label_distribution(train_dataset)\n",
    "val_counts, val_distribution = get_label_distribution(val_dataset)\n",
    "test_counts, test_distribution = get_label_distribution(test_dataset)\n",
    "\n",
    "# Prepare data to display\n",
    "distribution_data = {\n",
    "    'Label': ['CNV (0)', 'DME (1)', 'Drusen (2)', 'Normal (3)'],\n",
    "    'Train Count': [train_counts.get(i, 0) for i in range(4)],\n",
    "    'Train %': [train_distribution.get(i, 0) for i in range(4)],\n",
    "    'Validation Count': [val_counts.get(i, 0) for i in range(4)],\n",
    "    'Validation %': [val_distribution.get(i, 0) for i in range(4)],\n",
    "    'Test Count': [test_counts.get(i, 0) for i in range(4)],\n",
    "    'Test %': [test_distribution.get(i, 0) for i in range(4)],\n",
    "}\n",
    "\n",
    "df_distribution = pd.DataFrame(distribution_data)\n",
    "display(df_distribution)\n",
    "\n",
    "# Plotting the distribution for better visualization\n",
    "def plot_distribution(counts, title):\n",
    "    labels = ['CNV (0)', 'DME (1)', 'Drusen (2)', 'Normal (3)']\n",
    "    values = [counts.get(i, 0) for i in range(4)]\n",
    "    plt.figure(figsize=(5, 4))\n",
    "    plt.bar(labels, values, color='skyblue')\n",
    "    plt.title(title)\n",
    "    plt.ylabel(\"Number of Samples\")\n",
    "    plt.show()\n",
    "\n",
    "# Plot distributions\n",
    "plot_distribution(train_counts, \"Training Set Distribution\")\n",
    "plot_distribution(val_counts, \"Validation Set Distribution\")\n",
    "plot_distribution(test_counts, \"Test Set Distribution\")\n"
   ]
  },
  {
   "cell_type": "markdown",
   "id": "8303de06-c9b9-417a-bafd-22643ca57701",
   "metadata": {
    "id": "8303de06-c9b9-417a-bafd-22643ca57701"
   },
   "source": [
    "Insights from the OCTMNIST Label Distribution:\n",
    "Training Set:\n",
    "\n",
    "The dataset is highly imbalanced, with the Normal Retina (Label 3) having the highest number of samples.\n",
    "CNV (Label 0) also has a large number of samples but is less than the normal retina class.\n",
    "DME (Label 1) and Drusen (Label 2) have significantly fewer samples compared to CNV and Normal Retina, indicating an imbalance that may affect model performance.\n",
    "Validation Set:\n",
    "\n",
    "Similar imbalance is observed in the validation set:\n",
    "Normal Retina (Label 3) and CNV (Label 0) dominate.\n",
    "DME (Label 1) and Drusen (Label 2) have lower representation, mirroring the training set.\n",
    "This consistency indicates that the model’s performance on validation will likely reflect similar biases as the training.\n",
    "Test Set:\n",
    "\n",
    "The test set is perfectly balanced with an equal number of samples for each category.\n",
    "This balanced test distribution ensures that the final evaluation metric will not be biased toward any one label, providing an unbiased assessment of model performance."
   ]
  },
  {
   "cell_type": "markdown",
   "id": "fd1081bc-b8e6-4af3-834d-0e2a5271cf92",
   "metadata": {
    "id": "fd1081bc-b8e6-4af3-834d-0e2a5271cf92"
   },
   "source": [
    "# Appproach:\n",
    "- Address the imbalance using techniques such as:\n",
    "- -- Augmentation: Apply augmentation (e.g., rotation, flipping) to generate more training samples, particularly for DME and Drusen.\n",
    "  \n",
    "- -- Evaluation: Carefully monitor per-class accuracy and recall metrics during validation and testing to ensure the model doesn’t ignore minority classes."
   ]
  },
  {
   "cell_type": "markdown",
   "id": "05141f09-72cf-4c44-9a67-27a8d21146c1",
   "metadata": {
    "id": "05141f09-72cf-4c44-9a67-27a8d21146c1"
   },
   "source": [
    "# Statistics of data`"
   ]
  },
  {
   "cell_type": "code",
   "execution_count": 79,
   "id": "63890790-9098-4335-8482-7f57e5c4ba79",
   "metadata": {
    "colab": {
     "base_uri": "https://localhost:8080/",
     "height": 300
    },
    "id": "63890790-9098-4335-8482-7f57e5c4ba79",
    "outputId": "6ced1788-7d98-4577-abdb-18f5794710ab"
   },
   "outputs": [
    {
     "data": {
      "text/html": [
       "<div>\n",
       "<style scoped>\n",
       "    .dataframe tbody tr th:only-of-type {\n",
       "        vertical-align: middle;\n",
       "    }\n",
       "\n",
       "    .dataframe tbody tr th {\n",
       "        vertical-align: top;\n",
       "    }\n",
       "\n",
       "    .dataframe thead th {\n",
       "        text-align: right;\n",
       "    }\n",
       "</style>\n",
       "<table border=\"1\" class=\"dataframe\">\n",
       "  <thead>\n",
       "    <tr style=\"text-align: right;\">\n",
       "      <th></th>\n",
       "      <th>Statistic</th>\n",
       "      <th>Training Set</th>\n",
       "      <th>Validation Set</th>\n",
       "      <th>Test Set</th>\n",
       "    </tr>\n",
       "  </thead>\n",
       "  <tbody>\n",
       "    <tr>\n",
       "      <th>0</th>\n",
       "      <td>Total Images</td>\n",
       "      <td>97477</td>\n",
       "      <td>10832</td>\n",
       "      <td>1000</td>\n",
       "    </tr>\n",
       "    <tr>\n",
       "      <th>1</th>\n",
       "      <td>Image Shape</td>\n",
       "      <td>(1, 28, 28)</td>\n",
       "      <td>(1, 28, 28)</td>\n",
       "      <td>(1, 28, 28)</td>\n",
       "    </tr>\n",
       "    <tr>\n",
       "      <th>2</th>\n",
       "      <td>Min Pixel Value</td>\n",
       "      <td>0.0</td>\n",
       "      <td>0.0</td>\n",
       "      <td>0.0</td>\n",
       "    </tr>\n",
       "    <tr>\n",
       "      <th>3</th>\n",
       "      <td>Max Pixel Value</td>\n",
       "      <td>1.0</td>\n",
       "      <td>1.0</td>\n",
       "      <td>1.0</td>\n",
       "    </tr>\n",
       "    <tr>\n",
       "      <th>4</th>\n",
       "      <td>Mean Pixel Value</td>\n",
       "      <td>0.188943</td>\n",
       "      <td>0.188436</td>\n",
       "      <td>0.202933</td>\n",
       "    </tr>\n",
       "    <tr>\n",
       "      <th>5</th>\n",
       "      <td>Std Dev of Pixels</td>\n",
       "      <td>0.196276</td>\n",
       "      <td>0.195774</td>\n",
       "      <td>0.210886</td>\n",
       "    </tr>\n",
       "    <tr>\n",
       "      <th>6</th>\n",
       "      <td>Unique Labels</td>\n",
       "      <td>4</td>\n",
       "      <td>4</td>\n",
       "      <td>4</td>\n",
       "    </tr>\n",
       "    <tr>\n",
       "      <th>7</th>\n",
       "      <td>Label Counts</td>\n",
       "      <td>{0: 33484, 3: 46026, 1: 10213, 2: 7754}</td>\n",
       "      <td>{3: 5114, 0: 3721, 1: 1135, 2: 862}</td>\n",
       "      <td>{3: 250, 2: 250, 0: 250, 1: 250}</td>\n",
       "    </tr>\n",
       "  </tbody>\n",
       "</table>\n",
       "</div>"
      ],
      "text/plain": [
       "           Statistic                             Training Set  \\\n",
       "0       Total Images                                    97477   \n",
       "1        Image Shape                              (1, 28, 28)   \n",
       "2    Min Pixel Value                                      0.0   \n",
       "3    Max Pixel Value                                      1.0   \n",
       "4   Mean Pixel Value                                 0.188943   \n",
       "5  Std Dev of Pixels                                 0.196276   \n",
       "6      Unique Labels                                        4   \n",
       "7       Label Counts  {0: 33484, 3: 46026, 1: 10213, 2: 7754}   \n",
       "\n",
       "                        Validation Set                          Test Set  \n",
       "0                                10832                              1000  \n",
       "1                          (1, 28, 28)                       (1, 28, 28)  \n",
       "2                                  0.0                               0.0  \n",
       "3                                  1.0                               1.0  \n",
       "4                             0.188436                          0.202933  \n",
       "5                             0.195774                          0.210886  \n",
       "6                                    4                                 4  \n",
       "7  {3: 5114, 0: 3721, 1: 1135, 2: 862}  {3: 250, 2: 250, 0: 250, 1: 250}  "
      ]
     },
     "metadata": {},
     "output_type": "display_data"
    }
   ],
   "source": [
    "# Function to compute dataset statistics\n",
    "def dataset_statistics(dataset):\n",
    "\n",
    "    labels = [sample[1].item() for sample in dataset]  # Extract all labels\n",
    "    images = [(sample[0]).numpy() for sample in dataset]  # Convert images to tensors and numpy arrays\n",
    "\n",
    "    # Image statistics\n",
    "    image_shapes = [image.shape for image in images]  # Get shape of each image\n",
    "    flattened_pixels = [image.flatten() for image in images]  # Flatten images for pixel analysis\n",
    "    pixel_values = np.concatenate(flattened_pixels)\n",
    "\n",
    "    # Compute statistics\n",
    "    stats = {\n",
    "        \"Total Images\": len(images),\n",
    "        \"Image Shape\": image_shapes[0] if len(image_shapes) > 0 else \"N/A\",  # Assuming uniform shapes\n",
    "        \"Min Pixel Value\": np.min(pixel_values),\n",
    "        \"Max Pixel Value\": np.max(pixel_values),\n",
    "        \"Mean Pixel Value\": np.mean(pixel_values),\n",
    "        \"Standard Deviation of Pixels\": np.std(pixel_values),\n",
    "        \"Number of Unique Labels\": len(set(labels)),\n",
    "        \"Label Counts\": Counter(labels)\n",
    "    }\n",
    "\n",
    "    return stats\n",
    "\n",
    "# Analyze train, validation, and test sets\n",
    "train_stats = dataset_statistics(train_dataset)\n",
    "val_stats = dataset_statistics(val_dataset)\n",
    "test_stats = dataset_statistics(test_dataset)\n",
    "\n",
    "# Prepare data for display\n",
    "overall_stats = {\n",
    "    \"Statistic\": [\"Total Images\", \"Image Shape\", \"Min Pixel Value\", \"Max Pixel Value\",\n",
    "                  \"Mean Pixel Value\", \"Std Dev of Pixels\", \"Unique Labels\", \"Label Counts\"],\n",
    "    \"Training Set\": [train_stats[\"Total Images\"], train_stats[\"Image Shape\"], train_stats[\"Min Pixel Value\"],\n",
    "                     train_stats[\"Max Pixel Value\"], train_stats[\"Mean Pixel Value\"],\n",
    "                     train_stats[\"Standard Deviation of Pixels\"], train_stats[\"Number of Unique Labels\"],\n",
    "                     dict(train_stats[\"Label Counts\"])],\n",
    "    \"Validation Set\": [val_stats[\"Total Images\"], val_stats[\"Image Shape\"], val_stats[\"Min Pixel Value\"],\n",
    "                       val_stats[\"Max Pixel Value\"], val_stats[\"Mean Pixel Value\"],\n",
    "                       val_stats[\"Standard Deviation of Pixels\"], val_stats[\"Number of Unique Labels\"],\n",
    "                       dict(val_stats[\"Label Counts\"])],\n",
    "    \"Test Set\": [test_stats[\"Total Images\"], test_stats[\"Image Shape\"], test_stats[\"Min Pixel Value\"],\n",
    "                 test_stats[\"Max Pixel Value\"], test_stats[\"Mean Pixel Value\"],\n",
    "                 test_stats[\"Standard Deviation of Pixels\"], test_stats[\"Number of Unique Labels\"],\n",
    "                 dict(test_stats[\"Label Counts\"])]\n",
    "}\n",
    "\n",
    "# Display results\n",
    "df_overall_stats = pd.DataFrame(overall_stats)\n",
    "display(df_overall_stats)\n"
   ]
  },
  {
   "cell_type": "markdown",
   "id": "d980ab36-dff2-41b2-9fdf-819162527e76",
   "metadata": {
    "id": "d980ab36-dff2-41b2-9fdf-819162527e76"
   },
   "source": [
    "# Image Info:\n",
    "\n",
    "- Shape: (1, 28, 28) (grayscale, small size)\n",
    "- Pixel values: 0 to 1 (already normalized)\n",
    "- Mean pixel value: ~0.18-0.20 (consistent across sets)"
   ]
  },
  {
   "cell_type": "markdown",
   "id": "f50e0afd-be71-4dbe-85cf-ce21ff51e224",
   "metadata": {
    "id": "f50e0afd-be71-4dbe-85cf-ce21ff51e224"
   },
   "source": [
    "# Image Info Deep Dive:"
   ]
  },
  {
   "cell_type": "code",
   "execution_count": 82,
   "id": "cdd05230-81fd-43c0-8d67-452df7a4b0a1",
   "metadata": {
    "colab": {
     "base_uri": "https://localhost:8080/"
    },
    "id": "cdd05230-81fd-43c0-8d67-452df7a4b0a1",
    "outputId": "2d9de3c8-95b8-4387-f6be-ff0d64aecb53"
   },
   "outputs": [
    {
     "name": "stdout",
     "output_type": "stream",
     "text": [
      "(1, 28, 28)    97477\n",
      "Name: count, dtype: int64\n",
      "(1, 28, 28)    10832\n",
      "Name: count, dtype: int64\n",
      "(1, 28, 28)    1000\n",
      "Name: count, dtype: int64\n"
     ]
    }
   ],
   "source": [
    "# Function to get image sizes and their counts\n",
    "def get_image_size_counts(dataset):\n",
    "    # Extract image shapes (convert PIL to tensor for safety)\n",
    "    image_sizes = [(sample[0]).shape for sample in dataset]\n",
    "    return pd.Series(image_sizes).value_counts()\n",
    "\n",
    "# Get image size counts for the train set\n",
    "train_image_sizes = get_image_size_counts(train_dataset)\n",
    "val_image_sizes = get_image_size_counts(val_dataset)\n",
    "test_image_sizes = get_image_size_counts(test_dataset)\n",
    "\n",
    "# Display the counts\n",
    "print(train_image_sizes)\n",
    "print(val_image_sizes)\n",
    "print(test_image_sizes)\n"
   ]
  },
  {
   "cell_type": "code",
   "execution_count": null,
   "id": "0490fb91-28f3-4a60-bd70-6861d4f700b2",
   "metadata": {
    "id": "0490fb91-28f3-4a60-bd70-6861d4f700b2"
   },
   "outputs": [],
   "source": []
  },
  {
   "cell_type": "code",
   "execution_count": 83,
   "id": "68ad0c05-5b98-4f8a-bc25-f983028d0b0b",
   "metadata": {
    "colab": {
     "base_uri": "https://localhost:8080/",
     "height": 472
    },
    "id": "68ad0c05-5b98-4f8a-bc25-f983028d0b0b",
    "outputId": "b11a5c1d-1b82-49e1-ef37-d95d38369abf"
   },
   "outputs": [
    {
     "data": {
      "image/png": "[encoded data removed]",
      "text/plain": [
       "<Figure size 1600x500 with 5 Axes>"
      ]
     },
     "metadata": {},
     "output_type": "display_data"
    }
   ],
   "source": [
    "def plot_mean_pixel_heatmap(dataset):\n",
    "    fig, axes = plt.subplots(1, 4, figsize=(16, 5))\n",
    "    fig.suptitle(\"Mean Pixel Intensity Heatmap for Each Class\", fontsize=16)\n",
    "\n",
    "    for label in range(4):\n",
    "        # Collect all images for the given label\n",
    "        images = [(sample[0]).numpy().squeeze() for sample in dataset if sample[1].item() == label]\n",
    "        # Compute the mean image\n",
    "        mean_image = np.mean(images, axis=0)\n",
    "\n",
    "        # Plot the heatmap\n",
    "        ax = axes[label]\n",
    "        cax = ax.imshow(mean_image, cmap='gray', aspect='auto')\n",
    "        ax.set_title(f\"Label {label}\")\n",
    "        ax.axis('off')\n",
    "\n",
    "    # Add colorbar to the side\n",
    "    fig.colorbar(cax, ax=axes, orientation='vertical', fraction=0.02, pad=0.04)\n",
    "    plt.show()\n",
    "\n",
    "# Apply to the training dataset\n",
    "plot_mean_pixel_heatmap(train_dataset)\n"
   ]
  },
  {
   "cell_type": "markdown",
   "id": "04c58779-88c7-49b2-a339-886332acff08",
   "metadata": {
    "id": "04c58779-88c7-49b2-a339-886332acff08"
   },
   "source": [
    "# General Structure:\n",
    "\n",
    "Each heatmap represents the average pixel intensity of images from a specific label, showing common patterns.\n",
    "Brighter regions indicate higher pixel intensity, which could correspond to denser or abnormal structures, while darker regions represent less dense areas or background.\n",
    "Class-wise Analysis:\n",
    "\n",
    "Label 0 (CNV - Choroidal Neovascularization):\n",
    "\n",
    "More variation in the upper-middle region, suggesting abnormal blood vessel growth near this area.\n",
    "Label 1 (DME - Diabetic Macular Edema):\n",
    "\n",
    "Central bright region indicates fluid accumulation in the macula, which is a characteristic of DME.\n",
    "Label 2 (Drusen):\n",
    "\n",
    "Slightly more uniform but shows bright spots that could correspond to lipid deposits under the retina.\n",
    "Label 3 (Normal Retina):\n",
    "\n",
    "The heatmap appears smoother and more uniform, with no distinct bright spots or irregularities, representing a healthy retina."
   ]
  },
  {
   "cell_type": "markdown",
   "id": "733049b1-f417-4312-ac0f-187da6e7de78",
   "metadata": {
    "id": "733049b1-f417-4312-ac0f-187da6e7de78"
   },
   "source": [
    "## Check if the data is Shuffled"
   ]
  },
  {
   "cell_type": "code",
   "execution_count": 86,
   "id": "71cbd9c7-6cae-420d-8fd1-dbea0d24a6a5",
   "metadata": {
    "colab": {
     "base_uri": "https://localhost:8080/",
     "height": 734
    },
    "id": "71cbd9c7-6cae-420d-8fd1-dbea0d24a6a5",
    "outputId": "5b750bce-c620-4856-8659-acd358624f80"
   },
   "outputs": [
    {
     "data": {
      "image/png": "[encoded data removed]",
      "text/plain": [
       "<Figure size 1000x200 with 1 Axes>"
      ]
     },
     "metadata": {},
     "output_type": "display_data"
    },
    {
     "data": {
      "image/png": "[encoded data removed]",
      "text/plain": [
       "<Figure size 1000x200 with 1 Axes>"
      ]
     },
     "metadata": {},
     "output_type": "display_data"
    },
    {
     "data": {
      "image/png": "[encoded data removed]",
      "text/plain": [
       "<Figure size 1000x200 with 1 Axes>"
      ]
     },
     "metadata": {},
     "output_type": "display_data"
    }
   ],
   "source": [
    "def check_label_sequence(dataset, name):\n",
    "    labels = [sample[1].item() for sample in dataset]  # Extract all labels\n",
    "    plt.figure(figsize=(10, 2))\n",
    "    plt.plot(labels, marker='o', linestyle='', markersize=2, alpha=0.7)  # Scatter plot of label order\n",
    "    plt.title(f\"Label Sequence in {name}\")\n",
    "    plt.xlabel(\"Sample Index\")\n",
    "    plt.ylabel(\"Label\")\n",
    "    plt.show()\n",
    "\n",
    "# Check for train, validation, and test sets\n",
    "check_label_sequence(train_dataset, \"Training Set\")\n",
    "check_label_sequence(val_dataset, \"Validation Set\")\n",
    "check_label_sequence(test_dataset, \"Test Set\")\n"
   ]
  },
  {
   "cell_type": "code",
   "execution_count": null,
   "id": "db362445-b30c-453e-a81d-2af2819def45",
   "metadata": {
    "id": "db362445-b30c-453e-a81d-2af2819def45"
   },
   "outputs": [],
   "source": []
  },
  {
   "cell_type": "markdown",
   "id": "9d2ecc3e-a92d-4a0f-a385-20aa9f948acc",
   "metadata": {
    "id": "9d2ecc3e-a92d-4a0f-a385-20aa9f948acc"
   },
   "source": [
    "Training set needs shuffling to avoid bias during training, as the model may overfit to one class at a time.\n",
    "Validation set has partial shuffling, but further improvement may help ensure better evaluation during training."
   ]
  },
  {
   "cell_type": "code",
   "execution_count": 88,
   "id": "ae33a8bf-77ed-4d79-a34c-1aa04bcfcb4c",
   "metadata": {
    "colab": {
     "base_uri": "https://localhost:8080/"
    },
    "id": "ae33a8bf-77ed-4d79-a34c-1aa04bcfcb4c",
    "outputId": "060c0c11-6984-400d-ee3c-758bfd865525"
   },
   "outputs": [
    {
     "name": "stdout",
     "output_type": "stream",
     "text": [
      "X_train shape: torch.Size([97477, 784]), y_train shape: torch.Size([97477])\n",
      "X_val shape: torch.Size([10832, 784]), y_val shape: torch.Size([10832])\n",
      "X_test shape: torch.Size([1000, 784]), y_test shape: torch.Size([1000])\n"
     ]
    }
   ],
   "source": [
    "def extract_data_and_labels(dataset):\n",
    "    # Extract images and labels from dataset\n",
    "    images = [torch.flatten((sample[0])) for sample in dataset]  # Flatten images to 1D arrays\n",
    "    labels = [sample[1].item() for sample in dataset]  # Extract labels\n",
    "\n",
    "    # Stack the list of tensors into one tensor\n",
    "    X = torch.stack(images)\n",
    "    y = torch.tensor(labels)\n",
    "\n",
    "    return X, y\n",
    "\n",
    "# Extract X and y for train, validation, and test sets\n",
    "X_train, y_train = extract_data_and_labels(train_dataset)\n",
    "X_val, y_val = extract_data_and_labels(val_dataset)\n",
    "X_test, y_test = extract_data_and_labels(test_dataset)\n",
    "\n",
    "# Display the shapes of the resulting tensors\n",
    "print(f\"X_train shape: {X_train.shape}, y_train shape: {y_train.shape}\")\n",
    "print(f\"X_val shape: {X_val.shape}, y_val shape: {y_val.shape}\")\n",
    "print(f\"X_test shape: {X_test.shape}, y_test shape: {y_test.shape}\")\n"
   ]
  },
  {
   "cell_type": "code",
   "execution_count": 89,
   "id": "d28ec0b7-9ffc-4f33-b7f1-7b0bbcdf856f",
   "metadata": {
    "id": "d28ec0b7-9ffc-4f33-b7f1-7b0bbcdf856f"
   },
   "outputs": [],
   "source": [
    "def shuffle_data(X, y):\n",
    "    idx = np.random.permutation(X.shape[0])\n",
    "    return X[idx], y[idx]\n",
    "\n",
    "X_train_split, y_train_split = shuffle_data(X_train, y_train)\n",
    "X_val_split, y_val_split = shuffle_data(X_val, y_val)\n",
    "X_test, y_test = shuffle_data(X_test, y_test)"
   ]
  },
  {
   "cell_type": "code",
   "execution_count": null,
   "id": "ab24b9c1-3029-4cc4-a4f2-e76095c58212",
   "metadata": {
    "colab": {
     "base_uri": "https://localhost:8080/",
     "height": 734
    },
    "id": "ab24b9c1-3029-4cc4-a4f2-e76095c58212",
    "outputId": "e896045b-5a3b-468a-900a-b11cf1c03d77"
   },
   "outputs": [],
   "source": [
    "\n",
    "check_label_sequence(X_train_split, \"Training Set\")\n",
    "check_label_sequence(X_val_split, \"Validation Set\")\n",
    "check_label_sequence(X_test, \"Test Set\")\n"
   ]
  },
  {
   "cell_type": "markdown",
   "id": "6528bc70-531b-4c36-b1dd-f85c36213532",
   "metadata": {
    "id": "6528bc70-531b-4c36-b1dd-f85c36213532"
   },
   "source": [
    "The labels are now well shuffled, with no obvious patterns or grouping of labels.\n",
    "This randomness ensures that the model will encounter samples from different classes during training, which helps avoid overfitting."
   ]
  },
  {
   "cell_type": "markdown",
   "id": "15f559c7-02c7-4205-8e27-87613f444ef0",
   "metadata": {
    "id": "15f559c7-02c7-4205-8e27-87613f444ef0"
   },
   "source": [
    "## Modlelling"
   ]
  },
  {
   "cell_type": "code",
   "execution_count": 139,
   "id": "a6f720a1-ef87-4842-a09f-7a6fdb5c5b13",
   "metadata": {},
   "outputs": [
    {
     "name": "stdout",
     "output_type": "stream",
     "text": [
      "Class weights:  {0: 0.7277878986978855, 1: 2.386101047684324, 2: 3.142797265927263, 3: 0.5294670403684874}\n"
     ]
    }
   ],
   "source": [
    "import torch\n",
    "from sklearn.utils.class_weight import compute_class_weight\n",
    "\n",
    "# y_train is a PyTorch tensor\n",
    "classes = torch.unique(y_train).numpy()  # Convert unique classes to NumPy for compute_class_weight\n",
    "class_weights = compute_class_weight('balanced', classes=classes, y=y_train.numpy())  # y_train as NumPy\n",
    "\n",
    "# Store weights in a dictionary if needed\n",
    "class_weight_dict = {i: class_weights[i] for i in range(len(classes))}\n",
    "print(\"Class weights: \", class_weight_dict)\n"
   ]
  },
  {
   "cell_type": "markdown",
   "id": "34d37f57-ed24-4c56-84ac-d8206d3984ae",
   "metadata": {},
   "source": [
    "Class 0 is weighted with 0.7278 (less penalty, implying more samples).\n",
    "Class 1 is weighted with 2.3861 (higher penalty due to fewer samples).\n",
    "Class 2 is weighted with 3.1428 (even higher penalty due to being a very minority class).\n",
    " 3 is weighted with 0.5295 (least penalty, implying it is a majority class)."
   ]
  },
  {
   "cell_type": "code",
   "execution_count": 262,
   "id": "38eb91e6-dd07-4af1-a85f-e09c260f4bf5",
   "metadata": {},
   "outputs": [],
   "source": [
    "# import torch\n",
    "# import torch.nn as nn\n",
    "# import torch.nn.functional as F\n",
    "\n",
    "# class OctMNISTModel(nn.Module):\n",
    "#     def __init__(self, num_classes=4):\n",
    "#         super(OctMNISTModel, self).__init__()\n",
    "        \n",
    "#         # Convolutional Layer 1: input (1, 28, 28) -> output (16, 24, 24)\n",
    "#         self.conv1 = nn.Conv2d(in_channels=1, out_channels=16, kernel_size=5)\n",
    "        \n",
    "#         # Pooling Layer 1: output (16, 12, 12)\n",
    "#         self.pool1 = nn.MaxPool2d(kernel_size=2, stride=2)\n",
    "        \n",
    "#         # Convolutional Layer 2: input (16, 12, 12) -> output (32, 8, 8)\n",
    "#         self.conv2 = nn.Conv2d(in_channels=16, out_channels=32, kernel_size=5)\n",
    "        \n",
    "#         # Pooling Layer 2: output (32, 4, 4)\n",
    "#         self.pool2 = nn.MaxPool2d(kernel_size=2, stride=2)\n",
    "        \n",
    "#         # Flattening: output size (32 * 4 * 4) = 512\n",
    "#         self.fc1 = nn.Linear(32 * 4 * 4, 128)  # Fully connected layer 1\n",
    "#         self.fc2 = nn.Linear(128, num_classes)  # Fully connected layer 2\n",
    "        \n",
    "#     def forward(self, x):\n",
    "#         # Pass input through layers\n",
    "#         x = self.pool1(F.relu(self.conv1(x)))  # Conv1 -> ReLU -> Pool1\n",
    "#         x = self.pool2(F.relu(self.conv2(x)))  # Conv2 -> ReLU -> Pool2\n",
    "#         x = x.view(-1, 32 * 4 * 4)  # Flatten for fully connected layers\n",
    "#         x = F.relu(self.fc1(x))  # Fully connected layer 1 with ReLU\n",
    "#         x = self.fc2(x)  # Fully connected layer 2 (no activation, handled by loss function)\n",
    "#         return x\n",
    "\n",
    "# # Instantiate the model\n",
    "# model = OctMNISTModel(num_classes=4)\n",
    "# model = model.to(device)\n"
   ]
  },
  {
   "cell_type": "code",
   "execution_count": 266,
   "id": "0da8f343-5025-47e2-b7b8-d7e6878d7f3d",
   "metadata": {},
   "outputs": [],
   "source": [
    "import torch.nn as nn\n",
    "import torch.nn.functional as F\n",
    "\n",
    "class OctMNISTModel(nn.Module):\n",
    "    def __init__(self, num_classes=4):\n",
    "        super(OctMNISTModel, self).__init__()\n",
    "        \n",
    "        # Convolutional layers with Batch Normalization\n",
    "        self.conv1 = nn.Conv2d(in_channels=1, out_channels=16, kernel_size=5)\n",
    "        # self.bn1 = nn.BatchNorm2d(16)\n",
    "        self.pool1 = nn.MaxPool2d(kernel_size=2, stride=2)\n",
    "        \n",
    "        self.conv2 = nn.Conv2d(in_channels=16, out_channels=32, kernel_size=5)\n",
    "        # self.bn2 = nn.BatchNorm2d(32)\n",
    "        self.pool2 = nn.MaxPool2d(kernel_size=2, stride=2)\n",
    "        \n",
    "        # Additional convolutional layer\n",
    "        self.conv3 = nn.Conv2d(in_channels=32, out_channels=64, kernel_size=3)\n",
    "        # self.bn3 = nn.BatchNorm2d(64)\n",
    "        self.pool3 = nn.MaxPool2d(kernel_size=2, stride=2)\n",
    "        \n",
    "        # Fully connected layers\n",
    "        self.fc1 = nn.Linear(64 * 2 * 2, 128)\n",
    "        self.dropout = nn.Dropout(p=0.5)\n",
    "        self.fc2 = nn.Linear(128, num_classes)\n",
    "\n",
    "    def forward(self, x):\n",
    "        x = self.pool1(F.relu(self.bn1(self.conv1(x))))\n",
    "        x = self.pool2(F.relu(self.bn2(self.conv2(x))))\n",
    "        x = self.pool3(F.relu(self.bn3(self.conv3(x))))\n",
    "        \n",
    "        x = x.view(x.size(0), -1)  # Flattening\n",
    "        x = F.relu(self.fc1(x))\n",
    "        x = self.dropout(x)\n",
    "        x = self.fc2(x)\n",
    "        return x\n"
   ]
  },
  {
   "cell_type": "code",
   "execution_count": 268,
   "id": "2b3e1473-d230-4890-a82e-43bf5a272485",
   "metadata": {},
   "outputs": [
    {
     "name": "stdout",
     "output_type": "stream",
     "text": [
      "Data device: mps:0\n",
      "Labels device: mps:0\n",
      "Model parameters device: mps:0\n"
     ]
    }
   ],
   "source": [
    "print(\"Data device:\", data.device)\n",
    "print(\"Labels device:\", labels.device)\n",
    "print(\"Model parameters device:\", next(model.parameters()).device)\n"
   ]
  },
  {
   "cell_type": "code",
   "execution_count": 280,
   "id": "0482a6a4-21f6-4893-afbf-8b7d7b5728d9",
   "metadata": {},
   "outputs": [
    {
     "name": "stdout",
     "output_type": "stream",
     "text": [
      "Epoch [1/5], Training Loss: 0.4610\n",
      "Validation Loss: 0.4860\n",
      "Best model saved!\n",
      "Epoch [2/5], Training Loss: 0.4402\n",
      "Validation Loss: 0.4686\n",
      "Best model saved!\n",
      "Epoch [3/5], Training Loss: 0.4219\n",
      "Validation Loss: 0.4694\n",
      "Epoch [4/5], Training Loss: 0.4028\n",
      "Validation Loss: 0.4477\n",
      "Best model saved!\n",
      "Epoch [5/5], Training Loss: 0.3877\n",
      "Validation Loss: 0.4788\n",
      "Training complete.\n"
     ]
    }
   ],
   "source": [
    "import torch.optim as optim\n",
    "import torch\n",
    "import torch.nn as nn\n",
    "\n",
    "num_epochs = 5\n",
    "# Define optimizer\n",
    "optimizer = optim.Adam(model.parameters(), lr=0.001)\n",
    "\n",
    "# Define weighted loss function (from earlier steps)\n",
    "loss_fn = nn.CrossEntropyLoss(weight=class_weights_tensor)\n",
    "loss_fn.to(device)\n",
    "\n",
    "best_val_loss = float('inf')  # Initialize the best validation loss to a large value\n",
    "\n",
    "# Training loop\n",
    "for epoch in range(num_epochs):\n",
    "    model.train()  # Set the model to training mode\n",
    "    running_loss = 0.0\n",
    "    \n",
    "    for data, labels in train_loader:\n",
    "        data, labels = data.float().to(device), labels.to(device)  # Move data to device\n",
    "        labels = labels.squeeze()\n",
    "\n",
    "        # Zero the parameter gradients\n",
    "        optimizer.zero_grad()\n",
    "        \n",
    "        # Forward pass\n",
    "        outputs = model(data)\n",
    "        \n",
    "        # Compute loss\n",
    "        loss = loss_fn(outputs, labels)\n",
    "        \n",
    "        # Backward pass and optimization\n",
    "        loss.backward()\n",
    "        optimizer.step()\n",
    "        \n",
    "        running_loss += loss.item()\n",
    "    \n",
    "    epoch_loss = running_loss / len(train_loader)\n",
    "    print(f\"Epoch [{epoch+1}/{num_epochs}], Training Loss: {epoch_loss:.4f}\")\n",
    "    \n",
    "    # Validation step\n",
    "    model.eval()  # Set the model to evaluation mode\n",
    "    val_loss = 0.0\n",
    "\n",
    "    with torch.no_grad():\n",
    "        for val_data, val_labels in val_loader:\n",
    "            val_data, val_labels = val_data.float().to(device), val_labels.to(device)\n",
    "            val_labels = val_labels.squeeze()\n",
    "\n",
    "            val_outputs = model(val_data)\n",
    "            val_loss += loss_fn(val_outputs, val_labels).item()\n",
    "    \n",
    "    avg_val_loss = val_loss / len(val_loader)\n",
    "    print(f\"Validation Loss: {avg_val_loss:.4f}\")\n",
    "\n",
    "    # Save the model if it has the best validation loss so far\n",
    "    if avg_val_loss < best_val_loss:\n",
    "        best_val_loss = avg_val_loss\n",
    "        torch.save(model.state_dict(), \"best_model.pth\")\n",
    "        print(\"Best model saved!\")\n",
    "\n",
    "print(\"Training complete.\")\n"
   ]
  },
  {
   "cell_type": "code",
   "execution_count": 272,
   "id": "adbc9495-7d16-47d4-8d17-ba127426e175",
   "metadata": {},
   "outputs": [],
   "source": [
    "# Set model to evaluation mode\n",
    "# model.eval()\n",
    "\n",
    "model.load_state_dict(torch.load(\"best_model.pth\"))\n",
    "model.eval()  # Set to evaluation mode\n"
   ]
  },
  {
   "cell_type": "code",
   "execution_count": 274,
   "id": "32f47147-a83b-4391-9e38-3e4863f6bf90",
   "metadata": {},
   "outputs": [],
   "source": [
    "# model(data) -> logits"
   ]
  },
  {
   "cell_type": "code",
   "execution_count": 282,
   "id": "7c39ab5d-ba8b-425e-b1a8-813e1b2cdb09",
   "metadata": {},
   "outputs": [],
   "source": [
    "from sklearn.metrics import classification_report\n",
    "import torch\n",
    "\n",
    "def evaluate_model(model, loader, device):\n",
    "    model.load_state_dict(torch.load(\"best_model.pth\"))\n",
    "    model.eval()  # Set to evaluation mode\n",
    "\n",
    "    all_preds = []\n",
    "    all_labels = []\n",
    "\n",
    "    with torch.no_grad():\n",
    "        for data, labels in loader:\n",
    "            data, labels = data.to(device), labels.to(device)\n",
    "            outputs = model(data)\n",
    "            _, preds = torch.max(outputs, 1)  # Get predicted class\n",
    "            all_preds.extend(preds.cpu().numpy())\n",
    "            all_labels.extend(labels.cpu().numpy())\n",
    "\n",
    "    # Print the classification report\n",
    "    print(classification_report(all_labels, all_preds))\n"
   ]
  },
  {
   "cell_type": "code",
   "execution_count": 286,
   "id": "3e5fa9be-6988-44e4-8a9a-d1badd37f064",
   "metadata": {},
   "outputs": [
    {
     "name": "stdout",
     "output_type": "stream",
     "text": [
      "TRAIN CONFUSION MATRIX\n",
      "              precision    recall  f1-score   support\n",
      "\n",
      "           0       0.98      0.86      0.92     33484\n",
      "           1       0.75      0.94      0.84     10213\n",
      "           2       0.41      0.80      0.54      7754\n",
      "           3       0.96      0.84      0.89     46026\n",
      "\n",
      "    accuracy                           0.85     97477\n",
      "   macro avg       0.78      0.86      0.80     97477\n",
      "weighted avg       0.90      0.85      0.87     97477\n",
      "\n",
      "VALIDATION CONFUSION MATRIX\n",
      "              precision    recall  f1-score   support\n",
      "\n",
      "           0       0.97      0.85      0.91      3721\n",
      "           1       0.73      0.89      0.80      1135\n",
      "           2       0.39      0.75      0.51       862\n",
      "           3       0.95      0.83      0.89      5114\n",
      "\n",
      "    accuracy                           0.84     10832\n",
      "   macro avg       0.76      0.83      0.78     10832\n",
      "weighted avg       0.89      0.84      0.85     10832\n",
      "\n",
      "============================================================\n",
      "\n",
      "TEST CONFUSION MATRIX\n",
      "              precision    recall  f1-score   support\n",
      "\n",
      "           0       0.75      0.90      0.82       250\n",
      "           1       0.81      0.83      0.82       250\n",
      "           2       0.77      0.60      0.68       250\n",
      "           3       0.79      0.79      0.79       250\n",
      "\n",
      "    accuracy                           0.78      1000\n",
      "   macro avg       0.78      0.78      0.78      1000\n",
      "weighted avg       0.78      0.78      0.78      1000\n",
      "\n"
     ]
    }
   ],
   "source": [
    "print(\"TRAIN CONFUSION MATRIX\")\n",
    "evaluate_model(model, train_loader, device)\n",
    "print(\"=\" * 60)\n",
    "print(\"VALIDATION CONFUSION MATRIX\")\n",
    "evaluate_model(model, val_loader, device)\n",
    "print(\"=\" * 60)\n",
    "print(\"\\nTEST CONFUSION MATRIX\")\n",
    "evaluate_model(model, test_loader, device)"
   ]
  },
  {
   "cell_type": "markdown",
   "id": "5bcd0d81-bfb9-442c-83b1-7b88e292d71a",
   "metadata": {},
   "source": []
  },
  {
   "cell_type": "code",
   "execution_count": null,
   "id": "0b9a5cc7-a508-4f21-9b11-1a2b235fa6fd",
   "metadata": {},
   "outputs": [],
   "source": []
  }
 ],
 "metadata": {
  "accelerator": "GPU",
  "colab": {
   "gpuType": "T4",
   "provenance": []
  },
  "kernelspec": {
   "display_name": "Python 3 (ipykernel)",
   "language": "python",
   "name": "python3"
  },
  "language_info": {
   "codemirror_mode": {
    "name": "ipython",
    "version": 3
   },
   "file_extension": ".py",
   "mimetype": "text/x-python",
   "name": "python",
   "nbconvert_exporter": "python",
   "pygments_lexer": "ipython3",
   "version": "3.12.4"
  }
 },
 "nbformat": 4,
 "nbformat_minor": 5
}
